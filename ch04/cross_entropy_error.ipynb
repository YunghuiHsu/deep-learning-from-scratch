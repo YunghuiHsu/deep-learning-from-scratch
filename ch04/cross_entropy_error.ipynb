{
 "cells": [
  {
   "cell_type": "code",
   "execution_count": 1,
   "metadata": {},
   "outputs": [],
   "source": [
    "import numpy as np"
   ]
  },
  {
   "cell_type": "markdown",
   "metadata": {},
   "source": [
    "### cross_entropy_error\n",
    "-訓練資料實際值為標籤格式(非採用one_hot編碼)"
   ]
  },
  {
   "cell_type": "code",
   "execution_count": 2,
   "metadata": {},
   "outputs": [],
   "source": [
    "def cross_entropy_error(y, t):\n",
    "    if y.ndim == 1:\n",
    "        t = t.reshape(1, t.size)\n",
    "        y = y.reshape(1, y.size)\n",
    "        \n",
    "    # 教師データがone-hot-vectorの場合、正解ラベルのインデックスに変換\n",
    "    if t.size == y.size:\n",
    "        t = t.argmax(axis=1)\n",
    "             \n",
    "    batch_size = y.shape[0]\n",
    "    return -np.sum(np.log(y[np.arange(batch_size), t] + 1e-7)) / batch_size"
   ]
  },
  {
   "cell_type": "markdown",
   "metadata": {},
   "source": [
    "#### 範例"
   ]
  },
  {
   "cell_type": "code",
   "execution_count": 105,
   "metadata": {},
   "outputs": [
    {
     "name": "stdout",
     "output_type": "stream",
     "text": [
      "output_t : 0.510825 - Small Entropy\n",
      "output_f : 2.302584 - Large Entropy\n"
     ]
    }
   ],
   "source": [
    "t = np.array([2,7,0,9,4])   # 3 最大\n",
    "\n",
    "y_true  = np.array([0.1, 0.1, 0.1, 0.6, 0.1 ])   # 輸出預測 index 3 機率最高-正確  \n",
    "y_false = np.array([0.1, 0.1, 0.1, 0.1, 0.6 ])   # 輸出預測 index 4 機率最高-錯誤\n",
    "\n",
    "output_t = cross_entropy_error(y_true, t)\n",
    "output_f = cross_entropy_error(y_false, t)\n",
    "\n",
    "print(f'output_t : {output_t:3f} - Small Entropy')\n",
    "print(f'output_f : {output_f:3f} - Large Entropy')"
   ]
  },
  {
   "cell_type": "markdown",
   "metadata": {},
   "source": [
    "#### 函式各步驟詳解"
   ]
  },
  {
   "cell_type": "code",
   "execution_count": 104,
   "metadata": {},
   "outputs": [
    {
     "name": "stdout",
     "output_type": "stream",
     "text": [
      "y.ndim\t: 1\n",
      "y.shape\t:(5,) -before reshape!\n",
      "\n",
      "y.shape\t:(1, 5) -after reshape!\n",
      "t\t:[[2 7 0 9 4]]\n",
      "\n",
      "t_max\t: [3]\n",
      "batch_size:1\n",
      "np.arange(batch_size):[0]\n",
      "\n",
      "get_ymax\t:[0.6]\n",
      "\n",
      "log_y\t:[-0.51082562]\n",
      "\n"
     ]
    }
   ],
   "source": [
    "y = np.array([0.1, 0.1, 0.1, 0.6, 0.1 ])   # 一筆資料，5個輸出(分類)。一維陣列\n",
    "print('y.ndim\\t:', y.ndim)\n",
    "print(f'y.shape\\t:{y.shape} -before reshape!\\n' )\n",
    "\n",
    "t = np.array([2,7,0,9,4]) \n",
    "y = y.reshape(1, y.size)  # 轉型為二維陣列\n",
    "t = t.reshape(1, t.size)\n",
    "print(f'y.shape\\t:{y.shape} -after reshape!')\n",
    "print(f't\\t:{t}\\n')\n",
    "\n",
    "t = t.argmax(axis=1)\n",
    "print('t_max\\t:', t)\n",
    "\n",
    "batch_size = y.shape[0]\n",
    "print(f'batch_size:{batch_size}')  # batch_size =1\n",
    "print(f'np.arange(batch_size):{np.arange(batch_size)}\\n') # 得到陣列 [0]\n",
    "\n",
    "# np.arange(1) = array([0]，亦即取出矩陣中第0個row，再取出該row中，第t個索引位置\n",
    "get_ymax = y[np.arange(batch_size), t]   \n",
    "print(f'get_ymax\\t:{get_ymax}\\n')\n",
    "\n",
    "log_y = np.log(y[np.arange(batch_size), t])\n",
    "print(f'log_y\\t:{log_y}\\n')\n"
   ]
  },
  {
   "cell_type": "markdown",
   "metadata": {},
   "source": [
    "#### 兩種維度轉換:\n",
    "- flatten\n",
    "- reshape"
   ]
  },
  {
   "cell_type": "code",
   "execution_count": 137,
   "metadata": {},
   "outputs": [
    {
     "name": "stdout",
     "output_type": "stream",
     "text": [
      "(2, 3)\n",
      "(6,)\n",
      "[0.1 0.1 0.1 0.6 0.1 0.1] - 1d array \n",
      "\n",
      "0.6\n"
     ]
    }
   ],
   "source": [
    "m = np.array([[0.1, 0.1, 0.1],\n",
    "               [0.6, 0.1,0.1 ]])\n",
    "print(m.shape)\n",
    "m = m.flatten()  # 攤平，但仍為一維度 \n",
    "print(m.shape)\n",
    "print(m,'- 1d array \\n')  # 一維矩陣\n",
    "\n",
    "print(m[3])  # 取得index第3的值\n",
    " "
   ]
  },
  {
   "cell_type": "code",
   "execution_count": 144,
   "metadata": {},
   "outputs": [
    {
     "name": "stdout",
     "output_type": "stream",
     "text": [
      "(2, 3)\n",
      "(1, 6)\n",
      "n \t:  [[0.1 0.1 0.1 0.6 0.1 0.1]] - 2d array \n",
      "\n",
      "n[0]\t:  [0.1 0.1 0.1 0.6 0.1 0.1] - 1d array\n",
      "0.6\n"
     ]
    }
   ],
   "source": [
    "n = np.array([[0.1, 0.1, 0.1],\n",
    "               [0.6, 0.1,0.1 ]])\n",
    "print(n.shape)\n",
    "n = n.reshape(1,n.size) # 轉為 1 x 6 的二維矩陣\n",
    "print(n.shape)\n",
    "print('n \\t: ',n,'- 2d array \\n') # 二維矩陣\n",
    "\n",
    "# n[1] # return 只有1維，無法取得第二行(row=1)的矩陣  IndexError: index 1 is out of bounds for axis 0 with size 1\n",
    "print('n[0]\\t: ',n[0],'- 1d array')  # 取得第0行的 row\n",
    "print(n[0,3])"
   ]
  }
 ],
 "metadata": {
  "kernelspec": {
   "display_name": "Python 3",
   "language": "python",
   "name": "python3"
  },
  "language_info": {
   "codemirror_mode": {
    "name": "ipython",
    "version": 3
   },
   "file_extension": ".py",
   "mimetype": "text/x-python",
   "name": "python",
   "nbconvert_exporter": "python",
   "pygments_lexer": "ipython3",
   "version": "3.8.5"
  }
 },
 "nbformat": 4,
 "nbformat_minor": 4
}
