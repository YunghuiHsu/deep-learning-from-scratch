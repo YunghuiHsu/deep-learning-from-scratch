{
 "cells": [
  {
   "cell_type": "markdown",
   "metadata": {},
   "source": [
    "### 實作簡單的乘法與加法層反向傳播"
   ]
  },
  {
   "cell_type": "code",
   "execution_count": 1,
   "metadata": {},
   "outputs": [],
   "source": [
    "# coding: utf-8\n",
    "\n",
    "class MulLayer:\n",
    "    def __init__(self):\n",
    "        self.x = None\n",
    "        self.y = None\n",
    "\n",
    "    def forward(self, x, y):\n",
    "        self.x = x\n",
    "        self.y = y                \n",
    "        out = x * y\n",
    "\n",
    "        return out\n",
    "\n",
    "    def backward(self, dout):\n",
    "        dx = dout * self.y\n",
    "        dy = dout * self.x\n",
    "\n",
    "        return dx, dy\n",
    "\n",
    "\n",
    "class AddLayer:\n",
    "    def __init__(self):   # 不須特別初始化??\n",
    "        pass\n",
    "\n",
    "    def forward(self, x, y):\n",
    "        out = x + y\n",
    "\n",
    "        return out\n",
    "\n",
    "    def backward(self, dout):\n",
    "        dx = dout * 1\n",
    "        dy = dout * 1\n",
    "\n",
    "        return dx, dy\n"
   ]
  },
  {
   "cell_type": "markdown",
   "metadata": {},
   "source": [
    "#### 超市買蘋果\n",
    "- 乘法層實作"
   ]
  },
  {
   "cell_type": "code",
   "execution_count": 62,
   "metadata": {},
   "outputs": [
    {
     "name": "stdout",
     "output_type": "stream",
     "text": [
      "apple_taxed  : 220.0\n",
      "\n",
      "dapple_price :   1.1\n",
      "d_tax        : 200.0\n",
      "\n",
      "dapple       :   2.2\n",
      "dapple_num   : 110.0\n"
     ]
    }
   ],
   "source": [
    "apple = 100\n",
    "apple_num = 2\n",
    "tax = 1.1 \n",
    "\n",
    "# layer \n",
    "mul_apple_layer = MulLayer()\n",
    "mul_tax_layer   = MulLayer()\n",
    "\n",
    "# forward  正向傳播取得蘋果價格\n",
    "apple_price = mul_apple_layer.forward(apple, apple_num)\n",
    "apple_taxed = mul_tax_layer.forward(apple_price, tax)\n",
    "\n",
    "print(f'apple_taxed  : {apple_taxed: >5.1f}\\n')\n",
    "\n",
    "# backward 反向傳播\n",
    "'''\n",
    "backward() 的輸入引數是 [對應正向傳播輸出變數的微分值]\n",
    "forward的輸出變數: apple_price\n",
    "backward的引數: apple_price微分值。(常數像的微分值為1)\n",
    "'''\n",
    "\n",
    "dprice = 1   #把 apple_price的微分值設為引數 \n",
    "dapple_price , d_tax = mul_tax_layer.backward(dprice)\n",
    "print(f'dapple_price : {dapple_price: >5.1f}')\n",
    "print(f'd_tax        : {d_tax: >5.1f}\\n')\n",
    "\n",
    "dapple , dapple_num = mul_apple_layer.backward(dapple_price)\n",
    "print(f'dapple       : {dapple: >5.1f}')\n",
    "print(f'dapple_num   : {dapple_num: >5.1f}')\n"
   ]
  },
  {
   "cell_type": "code",
   "execution_count": 63,
   "metadata": {},
   "outputs": [
    {
     "name": "stdout",
     "output_type": "stream",
     "text": [
      "MulLayer\t: <__main__.MulLayer object at 0x00000172775F1E50>\n",
      "mul_apple_layer : <__main__.MulLayer object at 0x00000172775D8A30>\n",
      "mul_tax_layer\t: <__main__.MulLayer object at 0x00000172775D86D0>\n"
     ]
    }
   ],
   "source": [
    "print(f'MulLayer\\t: {MulLayer()}')\n",
    "print(f'mul_apple_layer : {mul_apple_layer}')\n",
    "print(f'mul_tax_layer\\t: {mul_tax_layer}')\n"
   ]
  },
  {
   "cell_type": "markdown",
   "metadata": {},
   "source": [
    "#### 超市買蘋果\n",
    "- 加法層實作"
   ]
  },
  {
   "cell_type": "code",
   "execution_count": 76,
   "metadata": {},
   "outputs": [
    {
     "name": "stdout",
     "output_type": "stream",
     "text": [
      "price_taxed\t: 715\n",
      "dApple\t\t: 2.2\n",
      "dApple_num\t: 110\n",
      "dOrange\t\t: 3.3\n",
      "dOrange_num\t: 165\n",
      "dTax\t\t: 650\n"
     ]
    }
   ],
   "source": [
    "# coding: utf-8\n",
    "from layer_naive import *\n",
    "\n",
    "apple = 100\n",
    "apple_num = 2\n",
    "orange = 150\n",
    "orange_num = 3\n",
    "tax = 1.1\n",
    "\n",
    "# layer\n",
    "mul_apple_layer = MulLayer()\n",
    "mul_orange_layer = MulLayer()\n",
    "add_apple_orange_layer = AddLayer()\n",
    "mul_tax_layer = MulLayer()\n",
    "\n",
    "# forward\n",
    "apple_price = mul_apple_layer.forward(apple, apple_num)  # (1)\n",
    "orange_price = mul_orange_layer.forward(orange, orange_num)  # (2)\n",
    "all_price = add_apple_orange_layer.forward(apple_price, orange_price)  # (3)\n",
    "price_taxed = mul_tax_layer.forward(all_price, tax)  # (4)\n",
    "\n",
    "# backward\n",
    "dprice_taxed = 1\n",
    "dall_price, dtax = mul_tax_layer.backward(dprice_taxed)  # (4)\n",
    "dapple_price, dorange_price = add_apple_orange_layer.backward(dall_price)  # (3)\n",
    "dorange, dorange_num = mul_orange_layer.backward(dorange_price)  # (2)\n",
    "dapple, dapple_num = mul_apple_layer.backward(dapple_price)  # (1)\n",
    "\n",
    "print(\"price_taxed\\t:\", int(price_taxed))\n",
    "print(\"dApple\\t\\t:\", dapple)\n",
    "print(\"dApple_num\\t:\", int(dapple_num))\n",
    "print(\"dOrange\\t\\t:\", round(dorange,1))\n",
    "print(\"dOrange_num\\t:\", int(dorange_num))\n",
    "print(\"dTax\\t\\t:\", dtax)"
   ]
  },
  {
   "cell_type": "markdown",
   "metadata": {},
   "source": [
    "### 實作活化函數的反向傳播"
   ]
  },
  {
   "cell_type": "markdown",
   "metadata": {},
   "source": [
    "#### Relu的反向傳播"
   ]
  },
  {
   "cell_type": "code",
   "execution_count": 87,
   "metadata": {},
   "outputs": [],
   "source": [
    "#　為何指定 x <=0?  2; x >0 呢？\n",
    "class Relu:\n",
    "    def __init__(self):\n",
    "        self.mask = None\n",
    "\n",
    "    def forward(self, x):\n",
    "        self.mask = (x <= 0)\n",
    "        out = x.copy()\n",
    "        out[self.mask] = 0\n",
    "\n",
    "        return out\n",
    "\n",
    "    def backward(self, dout):\n",
    "        dout[self.mask] = 0\n",
    "        dx = dout\n",
    "\n",
    "        return dx"
   ]
  },
  {
   "cell_type": "code",
   "execution_count": 108,
   "metadata": {},
   "outputs": [
    {
     "name": "stdout",
     "output_type": "stream",
     "text": [
      "[10]\n"
     ]
    },
    {
     "data": {
      "text/plain": [
       "array([1])"
      ]
     },
     "execution_count": 108,
     "metadata": {},
     "output_type": "execute_result"
    }
   ],
   "source": [
    "import numpy as np\n",
    "relu_layer = Relu()\n",
    "x = np.array([10])\n",
    "# x = 10\n",
    "x_f = relu_layer.forward(x)\n",
    "print(x_f)\n",
    "\n",
    "dx_f = np.array([1])\n",
    "df = relu_layer.backward(dx_f)\n",
    "df\n",
    "\n",
    "'''\n",
    "if x  >0 => y = x ， dx = 1\n",
    "   x <=0 => y = 0 ， dx = 0\n",
    "'''"
   ]
  },
  {
   "cell_type": "markdown",
   "metadata": {},
   "source": [
    "#### Sigmoid的反向傳播"
   ]
  },
  {
   "cell_type": "code",
   "execution_count": null,
   "metadata": {},
   "outputs": [],
   "source": [
    "class Sigmoid:\n",
    "    def __init__(self):\n",
    "        self.out = None\n",
    "\n",
    "    def forward(self, x):\n",
    "        out = sigmoid(x)\n",
    "        self.out = out\n",
    "        return out\n",
    "\n",
    "    def backward(self, dout):\n",
    "        dx = dout * (1.0 - self.out) * self.out\n",
    "\n",
    "        return dx\n"
   ]
  }
 ],
 "metadata": {
  "kernelspec": {
   "display_name": "Python 3",
   "language": "python",
   "name": "python3"
  },
  "language_info": {
   "codemirror_mode": {
    "name": "ipython",
    "version": 3
   },
   "file_extension": ".py",
   "mimetype": "text/x-python",
   "name": "python",
   "nbconvert_exporter": "python",
   "pygments_lexer": "ipython3",
   "version": "3.8.5"
  }
 },
 "nbformat": 4,
 "nbformat_minor": 4
}
